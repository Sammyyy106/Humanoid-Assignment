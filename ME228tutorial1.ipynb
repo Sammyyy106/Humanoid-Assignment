{
  "nbformat": 4,
  "nbformat_minor": 0,
  "metadata": {
    "colab": {
      "provenance": [],
      "authorship_tag": "ABX9TyNlHVDBh6Hs2in7Jn+pqWr5",
      "include_colab_link": true
    },
    "kernelspec": {
      "name": "python3",
      "display_name": "Python 3"
    },
    "language_info": {
      "name": "python"
    }
  },
  "cells": [
    {
      "cell_type": "markdown",
      "metadata": {
        "id": "view-in-github",
        "colab_type": "text"
      },
      "source": [
        "<a href=\"https://colab.research.google.com/github/Sammyyy106/Humanoid-Assignment/blob/main/ME228tutorial1.ipynb\" target=\"_parent\"><img src=\"https://colab.research.google.com/assets/colab-badge.svg\" alt=\"Open In Colab\"/></a>"
      ]
    },
    {
      "cell_type": "code",
      "source": [
        "#ME228 Tutorial 1"
      ],
      "metadata": {
        "id": "EAyBsdRxvvTU"
      },
      "execution_count": 3,
      "outputs": []
    },
    {
      "cell_type": "code",
      "source": [
        "print('hello')"
      ],
      "metadata": {
        "colab": {
          "base_uri": "https://localhost:8080/"
        },
        "id": "BvTLUwkbv3nC",
        "outputId": "c4bb9468-11af-4b28-e128-18aafe5fdac0"
      },
      "execution_count": 4,
      "outputs": [
        {
          "output_type": "stream",
          "name": "stdout",
          "text": [
            "hello\n"
          ]
        }
      ]
    },
    {
      "cell_type": "code",
      "source": [
        "a=1\n",
        "b=23\n",
        "c=a+b\n",
        "c"
      ],
      "metadata": {
        "colab": {
          "base_uri": "https://localhost:8080/"
        },
        "id": "OIH6j1Ukv76X",
        "outputId": "a32a565a-7d33-463d-9bac-a6ed48807b7f"
      },
      "execution_count": 5,
      "outputs": [
        {
          "output_type": "execute_result",
          "data": {
            "text/plain": [
              "24"
            ]
          },
          "metadata": {},
          "execution_count": 5
        }
      ]
    },
    {
      "cell_type": "code",
      "source": [
        "print('the answer is ' +str(c)+ '.')"
      ],
      "metadata": {
        "colab": {
          "base_uri": "https://localhost:8080/"
        },
        "id": "0d7ShN87wI-S",
        "outputId": "d771c23e-64a4-4549-e1f3-562ae1799fd7"
      },
      "execution_count": 9,
      "outputs": [
        {
          "output_type": "stream",
          "name": "stdout",
          "text": [
            "the answer is 24.\n"
          ]
        }
      ]
    },
    {
      "cell_type": "code",
      "source": [
        "X=[1, 2, 3]\n",
        "X"
      ],
      "metadata": {
        "colab": {
          "base_uri": "https://localhost:8080/"
        },
        "id": "Snbb5eRgwQw5",
        "outputId": "5b70c34b-dad5-4510-a3d2-77018cb31486"
      },
      "execution_count": 10,
      "outputs": [
        {
          "output_type": "execute_result",
          "data": {
            "text/plain": [
              "[1, 2, 3]"
            ]
          },
          "metadata": {},
          "execution_count": 10
        }
      ]
    },
    {
      "cell_type": "code",
      "source": [
        "Y=['a', 'b', 'c']\n",
        "Y"
      ],
      "metadata": {
        "colab": {
          "base_uri": "https://localhost:8080/"
        },
        "id": "C0qj0Nuaw8F0",
        "outputId": "92b58aed-fcb7-40a3-b7d3-d2434b7bc672"
      },
      "execution_count": 11,
      "outputs": [
        {
          "output_type": "execute_result",
          "data": {
            "text/plain": [
              "['a', 'b', 'c']"
            ]
          },
          "metadata": {},
          "execution_count": 11
        }
      ]
    },
    {
      "cell_type": "code",
      "source": [
        "\n",
        "import numpy as np"
      ],
      "metadata": {
        "id": "rXiTBG9bxDx4"
      },
      "execution_count": 23,
      "outputs": []
    },
    {
      "cell_type": "code",
      "source": [
        "x=np.array([3, 4, 5])\n",
        "y=np.array([6, 7, 8])"
      ],
      "metadata": {
        "id": "zgXsh0vMxzE9"
      },
      "execution_count": 14,
      "outputs": []
    },
    {
      "cell_type": "code",
      "source": [
        "\n",
        "y"
      ],
      "metadata": {
        "colab": {
          "base_uri": "https://localhost:8080/"
        },
        "id": "apIieNgBxGUR",
        "outputId": "67b8ec6f-ff12-4256-ce5b-fc71cc8458b3"
      },
      "execution_count": 16,
      "outputs": [
        {
          "output_type": "execute_result",
          "data": {
            "text/plain": [
              "array([6, 7, 8])"
            ]
          },
          "metadata": {},
          "execution_count": 16
        }
      ]
    },
    {
      "cell_type": "code",
      "source": [
        "x.dtype"
      ],
      "metadata": {
        "colab": {
          "base_uri": "https://localhost:8080/"
        },
        "id": "t5z62V0MyGa5",
        "outputId": "5482243c-1037-436d-b1a3-2a79a9e930de"
      },
      "execution_count": 17,
      "outputs": [
        {
          "output_type": "execute_result",
          "data": {
            "text/plain": [
              "dtype('int64')"
            ]
          },
          "metadata": {},
          "execution_count": 17
        }
      ]
    },
    {
      "cell_type": "code",
      "source": [
        "x=np.array([[1,2], [3, 4]])"
      ],
      "metadata": {
        "id": "Ug2FGbOhyKsy"
      },
      "execution_count": 19,
      "outputs": []
    },
    {
      "cell_type": "code",
      "source": [
        "x"
      ],
      "metadata": {
        "colab": {
          "base_uri": "https://localhost:8080/"
        },
        "id": "u_fewvX6yXYi",
        "outputId": "e0fa8b25-9f58-4fb5-b694-bd2975a66594"
      },
      "execution_count": 20,
      "outputs": [
        {
          "output_type": "execute_result",
          "data": {
            "text/plain": [
              "array([[1, 2],\n",
              "       [3, 4]])"
            ]
          },
          "metadata": {},
          "execution_count": 20
        }
      ]
    },
    {
      "cell_type": "code",
      "source": [
        "x.dtype"
      ],
      "metadata": {
        "colab": {
          "base_uri": "https://localhost:8080/"
        },
        "id": "9xD25Z6kydd7",
        "outputId": "0b132bbf-ba9d-48df-981e-6878cdf88e54"
      },
      "execution_count": 21,
      "outputs": [
        {
          "output_type": "execute_result",
          "data": {
            "text/plain": [
              "dtype('int64')"
            ]
          },
          "metadata": {},
          "execution_count": 21
        }
      ]
    },
    {
      "cell_type": "code",
      "source": [
        "np.shape(x)"
      ],
      "metadata": {
        "colab": {
          "base_uri": "https://localhost:8080/"
        },
        "id": "rTWd_4neyfeM",
        "outputId": "e2fad6de-be55-4da2-c7b7-d6c83a8d2c67"
      },
      "execution_count": 22,
      "outputs": [
        {
          "output_type": "execute_result",
          "data": {
            "text/plain": [
              "(2, 2)"
            ]
          },
          "metadata": {},
          "execution_count": 22
        }
      ]
    },
    {
      "cell_type": "code",
      "source": [
        "x.sum()"
      ],
      "metadata": {
        "colab": {
          "base_uri": "https://localhost:8080/"
        },
        "id": "usLoR73Syizy",
        "outputId": "e5ea11a6-6b2f-4eba-9e6e-5cd4d54e923d"
      },
      "execution_count": 25,
      "outputs": [
        {
          "output_type": "execute_result",
          "data": {
            "text/plain": [
              "10"
            ]
          },
          "metadata": {},
          "execution_count": 25
        }
      ]
    },
    {
      "cell_type": "code",
      "source": [
        "A = np.random.randint(10, size=(10, 10))\n"
      ],
      "metadata": {
        "id": "7GrxchK7yreR"
      },
      "execution_count": 32,
      "outputs": []
    },
    {
      "cell_type": "code",
      "source": [
        "A"
      ],
      "metadata": {
        "colab": {
          "base_uri": "https://localhost:8080/"
        },
        "id": "x9Lpndkpy_2o",
        "outputId": "a1273e66-0e52-48e0-851c-4e394454cbc1"
      },
      "execution_count": 29,
      "outputs": [
        {
          "output_type": "execute_result",
          "data": {
            "text/plain": [
              "array([[1, 4, 0, 7, 2, 8, 4, 5, 1, 0],\n",
              "       [0, 0, 3, 0, 0, 0, 4, 6, 0, 5],\n",
              "       [0, 3, 9, 0, 2, 2, 5, 9, 6, 5],\n",
              "       [0, 4, 0, 8, 4, 7, 8, 4, 7, 8],\n",
              "       [8, 9, 1, 3, 2, 2, 8, 6, 7, 4],\n",
              "       [4, 9, 0, 4, 5, 2, 8, 1, 5, 1],\n",
              "       [6, 6, 5, 6, 8, 6, 3, 7, 1, 3],\n",
              "       [2, 8, 8, 7, 3, 0, 6, 9, 4, 8],\n",
              "       [9, 4, 9, 0, 9, 5, 3, 0, 7, 4],\n",
              "       [7, 4, 3, 0, 1, 0, 3, 4, 2, 9]])"
            ]
          },
          "metadata": {},
          "execution_count": 29
        }
      ]
    },
    {
      "cell_type": "code",
      "source": [
        "Ainv=np.linalg.inv(A)"
      ],
      "metadata": {
        "id": "3eqH0eXgzQ32"
      },
      "execution_count": 30,
      "outputs": []
    },
    {
      "cell_type": "code",
      "source": [
        "Ainv"
      ],
      "metadata": {
        "colab": {
          "base_uri": "https://localhost:8080/"
        },
        "id": "zdWLAD7YzcjD",
        "outputId": "71b9af6d-0180-45d7-a91e-c58043da1465"
      },
      "execution_count": 31,
      "outputs": [
        {
          "output_type": "execute_result",
          "data": {
            "text/plain": [
              "array([[ 1.86211430e-02,  1.26108775e-01, -1.59927629e-01,\n",
              "        -3.23064390e-02,  1.60150200e-01, -1.31377030e-01,\n",
              "        -2.82069795e-02,  4.89147011e-02,  1.01745345e-01,\n",
              "        -8.83728930e-02],\n",
              "       [ 6.46433158e-02, -2.70065863e-01,  1.97362615e-01,\n",
              "        -5.74410502e-02, -1.80315897e-01,  2.07207820e-01,\n",
              "         1.56911398e-02, -5.35721766e-02, -1.31543018e-01,\n",
              "         2.49419608e-01],\n",
              "       [ 1.24487848e-01,  6.80348456e-02, -3.86444954e-02,\n",
              "        -8.42212614e-02, -5.12250510e-02, -4.32618766e-03,\n",
              "        -1.33460324e-01,  1.10585286e-01,  1.16559891e-01,\n",
              "        -2.38329055e-02],\n",
              "       [ 7.61970446e-03,  9.49059805e-02, -2.05579651e-01,\n",
              "         3.08796012e-02,  1.26214834e-01, -1.58718078e-01,\n",
              "        -4.28876419e-02,  1.73311275e-01,  9.12753596e-02,\n",
              "        -1.84748714e-01],\n",
              "       [-1.94237970e-01,  2.59851356e-04,  3.36750869e-02,\n",
              "         7.32064720e-02, -2.72172694e-02,  5.36418147e-02,\n",
              "         1.98980644e-01, -7.89693281e-02, -5.45249336e-02,\n",
              "        -4.96874197e-02],\n",
              "       [ 1.67582091e-01, -9.47067715e-02,  1.11971501e-01,\n",
              "        -1.87870304e-02, -1.24269069e-01,  6.86900433e-02,\n",
              "        -4.44882010e-02, -9.39717366e-02, -1.10006524e-02,\n",
              "         1.57955548e-01],\n",
              "       [ 7.87745613e-02,  2.98324666e-01, -1.32362952e-01,\n",
              "        -4.12300686e-02,  2.22082014e-02,  6.06570256e-02,\n",
              "        -1.29662466e-01,  3.53058159e-02,  1.07076847e-01,\n",
              "        -1.07913819e-01],\n",
              "       [-9.70573479e-02, -6.32096251e-03,  6.57161923e-02,\n",
              "         2.51207455e-02,  9.98192791e-02, -7.45989483e-02,\n",
              "         1.43671648e-01, -5.49509228e-02, -8.86578737e-02,\n",
              "        -5.10440386e-02],\n",
              "       [-1.12524633e-01, -1.14746571e-01,  4.72833876e-02,\n",
              "         8.91132780e-02,  1.38267439e-01, -1.12865038e-01,\n",
              "         2.38918608e-02, -4.56101745e-03, -2.46372480e-03,\n",
              "        -9.34586188e-02],\n",
              "       [-2.12435406e-02, -7.18954854e-02,  5.02176278e-02,\n",
              "         5.33719171e-02, -1.06814665e-01,  4.35888301e-02,\n",
              "         1.14001904e-02, -2.86547170e-02, -4.92079644e-02,\n",
              "         1.61883645e-01]])"
            ]
          },
          "metadata": {},
          "execution_count": 31
        }
      ]
    },
    {
      "cell_type": "code",
      "source": [
        "A=[[1, 2, 3], [4, 5, 6], [7,98, 9]]"
      ],
      "metadata": {
        "id": "CuBZ0Ga-zdqw"
      },
      "execution_count": 36,
      "outputs": []
    },
    {
      "cell_type": "code",
      "source": [
        "Ainv=np.linalg.inv(A)"
      ],
      "metadata": {
        "id": "xxmpRS_Az2ny"
      },
      "execution_count": 37,
      "outputs": []
    },
    {
      "cell_type": "code",
      "source": [
        "w,v=np.linalg.eig(A)"
      ],
      "metadata": {
        "id": "odTdAButz5-4"
      },
      "execution_count": 39,
      "outputs": []
    },
    {
      "cell_type": "code",
      "source": [
        "w"
      ],
      "metadata": {
        "colab": {
          "base_uri": "https://localhost:8080/"
        },
        "id": "-0mQ-s5g0QSc",
        "outputId": "1377e9c5-dfee-4f7f-cb9b-ce8d6272d391"
      },
      "execution_count": 40,
      "outputs": [
        {
          "output_type": "execute_result",
          "data": {
            "text/plain": [
              "array([ 32.6158588 ,  -0.99619097, -16.61966782])"
            ]
          },
          "metadata": {},
          "execution_count": 40
        }
      ]
    },
    {
      "cell_type": "code",
      "source": [
        "v"
      ],
      "metadata": {
        "colab": {
          "base_uri": "https://localhost:8080/"
        },
        "id": "gGbiaLqb07_m",
        "outputId": "f6481a30-f1da-4fb3-ab72-6728a57bac98"
      },
      "execution_count": 41,
      "outputs": [
        {
          "output_type": "execute_result",
          "data": {
            "text/plain": [
              "array([[-0.10617073, -0.83351036, -0.13618437],\n",
              "       [-0.22577406,  0.00318092, -0.2414523 ],\n",
              "       [-0.96837692,  0.55249467,  0.96080935]])"
            ]
          },
          "metadata": {},
          "execution_count": 41
        }
      ]
    },
    {
      "cell_type": "code",
      "source": [
        "v[:,1]"
      ],
      "metadata": {
        "colab": {
          "base_uri": "https://localhost:8080/"
        },
        "id": "wIkH3Y0Y09m6",
        "outputId": "fb92bc05-dcb2-4462-a17f-457076e0a51e"
      },
      "execution_count": 42,
      "outputs": [
        {
          "output_type": "execute_result",
          "data": {
            "text/plain": [
              "array([-0.83351036,  0.00318092,  0.55249467])"
            ]
          },
          "metadata": {},
          "execution_count": 42
        }
      ]
    },
    {
      "cell_type": "code",
      "source": [
        "v[:,2]"
      ],
      "metadata": {
        "colab": {
          "base_uri": "https://localhost:8080/"
        },
        "id": "oSp5OF-v1AS_",
        "outputId": "8c08bfaa-2218-456d-bdaf-7243be930330"
      },
      "execution_count": 44,
      "outputs": [
        {
          "output_type": "execute_result",
          "data": {
            "text/plain": [
              "array([-0.13618437, -0.2414523 ,  0.96080935])"
            ]
          },
          "metadata": {},
          "execution_count": 44
        }
      ]
    },
    {
      "cell_type": "code",
      "source": [
        "w"
      ],
      "metadata": {
        "colab": {
          "base_uri": "https://localhost:8080/"
        },
        "id": "LPG5923K1JQ-",
        "outputId": "a567ad3d-de9a-471c-8746-39c15427cbc2"
      },
      "execution_count": 45,
      "outputs": [
        {
          "output_type": "execute_result",
          "data": {
            "text/plain": [
              "array([ 32.6158588 ,  -0.99619097, -16.61966782])"
            ]
          },
          "metadata": {},
          "execution_count": 45
        }
      ]
    },
    {
      "cell_type": "code",
      "source": [
        "print(w[0]*v[:,0])"
      ],
      "metadata": {
        "colab": {
          "base_uri": "https://localhost:8080/"
        },
        "id": "OhmwgCnQ1OcW",
        "outputId": "b5b74c11-67b1-4dc1-d215-80f351ac9b51"
      },
      "execution_count": 46,
      "outputs": [
        {
          "output_type": "stream",
          "name": "stdout",
          "text": [
            "[ -3.46284959  -7.3638147  -31.58444476]\n"
          ]
        }
      ]
    },
    {
      "cell_type": "code",
      "source": [
        "print(np.matmul(A,v[:,0]))"
      ],
      "metadata": {
        "colab": {
          "base_uri": "https://localhost:8080/"
        },
        "id": "dh4aBFHL1Vrz",
        "outputId": "604ff395-ed9d-4264-dfcc-0a1eaae4afa7"
      },
      "execution_count": 47,
      "outputs": [
        {
          "output_type": "stream",
          "name": "stdout",
          "text": [
            "[ -3.46284959  -7.3638147  -31.58444476]\n"
          ]
        }
      ]
    },
    {
      "cell_type": "code",
      "source": [
        "#Plotting"
      ],
      "metadata": {
        "id": "l_Ink8IW2Dag"
      },
      "execution_count": 49,
      "outputs": []
    },
    {
      "cell_type": "code",
      "source": [
        "import matplotlib.pyplot as plt"
      ],
      "metadata": {
        "id": "7ksL_HTB1rUG"
      },
      "execution_count": 48,
      "outputs": []
    },
    {
      "cell_type": "code",
      "source": [
        "fig,ax = plt.subplots(figsize=(8,8))\n",
        "x=np.random.standard_normal(100)\n",
        "y=np.random.standard_normal(100)\n",
        "ax.scatter(x,y)\n",
        "x=np.random.standard_normal(100)-5\n",
        "y=np.random.standard_normal(100)-5\n",
        "ax.scatter(x,y)\n",
        "x=np.random.standard_normal(100)+5\n",
        "y=np.random.standard_normal(100)+5\n",
        "ax.scatter(x,y)"
      ],
      "metadata": {
        "colab": {
          "base_uri": "https://localhost:8080/",
          "height": 693
        },
        "id": "WzyhOLxM185c",
        "outputId": "d98e9e81-a3ca-4778-b30c-11c1dbf8ec2d"
      },
      "execution_count": 60,
      "outputs": [
        {
          "output_type": "execute_result",
          "data": {
            "text/plain": [
              "<matplotlib.collections.PathCollection at 0x7978ccd78580>"
            ]
          },
          "metadata": {},
          "execution_count": 60
        },
        {
          "output_type": "display_data",
          "data": {
            "text/plain": [
              "<Figure size 800x800 with 1 Axes>"
            ],
            "image/png": "[encoded data removed]"
          },
          "metadata": {}
        }
      ]
    },
    {
      "cell_type": "code",
      "source": [],
      "metadata": {
        "id": "Jgrh5NtM2mOV"
      },
      "execution_count": null,
      "outputs": []
    }
  ]
}