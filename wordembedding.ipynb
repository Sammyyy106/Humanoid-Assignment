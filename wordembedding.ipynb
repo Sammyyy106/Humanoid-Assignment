{
  "nbformat": 4,
  "nbformat_minor": 0,
  "metadata": {
    "colab": {
      "provenance": [],
      "authorship_tag": "ABX9TyOhKXFIRws551G1eUxunlvI",
      "include_colab_link": true
    },
    "kernelspec": {
      "name": "python3",
      "display_name": "Python 3"
    },
    "language_info": {
      "name": "python"
    }
  },
  "cells": [
    {
      "cell_type": "markdown",
      "metadata": {
        "id": "view-in-github",
        "colab_type": "text"
      },
      "source": [
        "<a href=\"https://colab.research.google.com/github/Sammyyy106/Humanoid-Assignment/blob/main/wordembedding.ipynb\" target=\"_parent\"><img src=\"https://colab.research.google.com/assets/colab-badge.svg\" alt=\"Open In Colab\"/></a>"
      ]
    },
    {
      "cell_type": "code",
      "execution_count": 1,
      "metadata": {
        "id": "UpbzAw339nHU"
      },
      "outputs": [],
      "source": [
        "import numpy as np\n",
        "from tensorflow.keras.preprocessing.text import one_hot\n",
        "from tensorflow.keras.preprocessing.sequence import pad_sequences\n",
        "from tensorflow.keras.models import Sequential\n",
        "from tensorflow.keras.layers import Dense\n",
        "from tensorflow.keras.layers import Flatten\n",
        "from tensorflow.keras.layers import Embedding\n",
        "\n",
        "reviews = ['nice food',\n",
        "        'amazing restaurant',\n",
        "        'too good',\n",
        "        'just loved it!',\n",
        "        'will go again',\n",
        "        'horrible food',\n",
        "        'never go there',\n",
        "        'poor service',\n",
        "        'poor quality',\n",
        "        'needs improvement']\n",
        "\n",
        "sentiment = np.array([1,1,1,1,1,0,0,0,0,0])"
      ]
    },
    {
      "cell_type": "code",
      "source": [
        "one_hot(\"amazing restaurant\", 30)"
      ],
      "metadata": {
        "colab": {
          "base_uri": "https://localhost:8080/"
        },
        "id": "ezc5gh7x9qCu",
        "outputId": "34e26577-a1bc-4062-f0a1-d4d850180c4a"
      },
      "execution_count": 2,
      "outputs": [
        {
          "output_type": "execute_result",
          "data": {
            "text/plain": [
              "[4, 27]"
            ]
          },
          "metadata": {},
          "execution_count": 2
        }
      ]
    },
    {
      "cell_type": "code",
      "source": [
        "vocab_size = 30\n",
        "encoded_reviews = [one_hot(d, vocab_size) for d in reviews]\n",
        "encoded_reviews"
      ],
      "metadata": {
        "colab": {
          "base_uri": "https://localhost:8080/"
        },
        "id": "40W6bnv297hM",
        "outputId": "fa9c05a0-3ae3-4fa2-8b6e-e6fdf4f2e8d7"
      },
      "execution_count": 3,
      "outputs": [
        {
          "output_type": "execute_result",
          "data": {
            "text/plain": [
              "[[4, 12],\n",
              " [4, 27],\n",
              " [5, 24],\n",
              " [13, 5, 29],\n",
              " [23, 6, 23],\n",
              " [17, 12],\n",
              " [26, 6, 14],\n",
              " [20, 26],\n",
              " [20, 8],\n",
              " [4, 29]]"
            ]
          },
          "metadata": {},
          "execution_count": 3
        }
      ]
    },
    {
      "cell_type": "code",
      "source": [
        "# padding\n",
        "\n",
        "max_length = 3\n",
        "padded_reviews = pad_sequences(encoded_reviews, maxlen=max_length, padding='post')\n",
        "padded_reviews"
      ],
      "metadata": {
        "colab": {
          "base_uri": "https://localhost:8080/"
        },
        "id": "C6rtePkS-PCs",
        "outputId": "f1524f2d-e35f-4caa-a331-4d4696f6af0c"
      },
      "execution_count": 5,
      "outputs": [
        {
          "output_type": "execute_result",
          "data": {
            "text/plain": [
              "array([[ 4, 12,  0],\n",
              "       [ 4, 27,  0],\n",
              "       [ 5, 24,  0],\n",
              "       [13,  5, 29],\n",
              "       [23,  6, 23],\n",
              "       [17, 12,  0],\n",
              "       [26,  6, 14],\n",
              "       [20, 26,  0],\n",
              "       [20,  8,  0],\n",
              "       [ 4, 29,  0]], dtype=int32)"
            ]
          },
          "metadata": {},
          "execution_count": 5
        }
      ]
    },
    {
      "cell_type": "code",
      "source": [
        "embedded_vector_size = 4\n",
        "\n",
        "model = Sequential()\n",
        "model.add(Embedding(vocab_size, embedded_vector_size, input_length=max_length, name=\"embedding\"))\n",
        "model.add(Flatten())\n",
        "model.add(Dense(1, activation= 'sigmoid'))"
      ],
      "metadata": {
        "id": "S37RWszA-p5E"
      },
      "execution_count": 10,
      "outputs": []
    },
    {
      "cell_type": "code",
      "source": [
        "X = padded_reviews\n",
        "y = sentiment"
      ],
      "metadata": {
        "id": "QSbchrHH_y4_"
      },
      "execution_count": 11,
      "outputs": []
    },
    {
      "cell_type": "code",
      "source": [
        "model.compile(optimizer='adam', loss='binary_crossentropy', metrics=['accuracy'])\n",
        "print(model.summary())"
      ],
      "metadata": {
        "colab": {
          "base_uri": "https://localhost:8080/"
        },
        "id": "OocqMPBv_7TM",
        "outputId": "b0debf48-6da8-4727-899a-124096c563f5"
      },
      "execution_count": 12,
      "outputs": [
        {
          "output_type": "stream",
          "name": "stdout",
          "text": [
            "Model: \"sequential_1\"\n",
            "_________________________________________________________________\n",
            " Layer (type)                Output Shape              Param #   \n",
            "=================================================================\n",
            " embedding (Embedding)       (None, 3, 4)              120       \n",
            "                                                                 \n",
            " flatten_1 (Flatten)         (None, 12)                0         \n",
            "                                                                 \n",
            " dense_1 (Dense)             (None, 1)                 13        \n",
            "                                                                 \n",
            "=================================================================\n",
            "Total params: 133 (532.00 Byte)\n",
            "Trainable params: 133 (532.00 Byte)\n",
            "Non-trainable params: 0 (0.00 Byte)\n",
            "_________________________________________________________________\n",
            "None\n"
          ]
        }
      ]
    },
    {
      "cell_type": "code",
      "source": [
        "model.fit(X, y, epochs=50, verbose=0)"
      ],
      "metadata": {
        "colab": {
          "base_uri": "https://localhost:8080/"
        },
        "id": "QgqwlxkvAOYF",
        "outputId": "c4ff79c9-a77f-4eeb-977d-9efd09fb8241"
      },
      "execution_count": 13,
      "outputs": [
        {
          "output_type": "execute_result",
          "data": {
            "text/plain": [
              "<keras.src.callbacks.History at 0x7995ac8d29b0>"
            ]
          },
          "metadata": {},
          "execution_count": 13
        }
      ]
    },
    {
      "cell_type": "code",
      "source": [
        "# evaluate the model\n",
        "loss, accuracy =model.evaluate(X, y)\n",
        "accuracy"
      ],
      "metadata": {
        "colab": {
          "base_uri": "https://localhost:8080/"
        },
        "id": "q8e7FgidAq9e",
        "outputId": "fa4e9d74-360a-4ec2-ce07-0113a0f44044"
      },
      "execution_count": 14,
      "outputs": [
        {
          "output_type": "stream",
          "name": "stdout",
          "text": [
            "1/1 [==============================] - 0s 247ms/step - loss: 0.6321 - accuracy: 1.0000\n"
          ]
        },
        {
          "output_type": "execute_result",
          "data": {
            "text/plain": [
              "1.0"
            ]
          },
          "metadata": {},
          "execution_count": 14
        }
      ]
    },
    {
      "cell_type": "code",
      "source": [
        "model.get_layer('embedding').get_weights()[0]"
      ],
      "metadata": {
        "colab": {
          "base_uri": "https://localhost:8080/"
        },
        "id": "C9-M0CwoA4Vj",
        "outputId": "142c8525-4f1a-414f-9c54-1f84f08d845b"
      },
      "execution_count": 15,
      "outputs": [
        {
          "output_type": "execute_result",
          "data": {
            "text/plain": [
              "array([[-0.09288794, -0.09004342,  0.00302536, -0.09713605],\n",
              "       [ 0.03504466,  0.01296491,  0.01258706, -0.03310766],\n",
              "       [ 0.01127576,  0.01149824,  0.00831972, -0.02761589],\n",
              "       [-0.0463389 , -0.01930322,  0.0030809 ,  0.02071777],\n",
              "       [ 0.04418601, -0.07169647, -0.09050909, -0.02023563],\n",
              "       [ 0.04515276, -0.09571995, -0.09126674, -0.04959735],\n",
              "       [ 0.01651604, -0.04030607, -0.03085071,  0.0339295 ],\n",
              "       [-0.03620124, -0.04644276, -0.01860306,  0.0445059 ],\n",
              "       [ 0.01511422,  0.07459512, -0.00326703,  0.0141278 ],\n",
              "       [ 0.01500001, -0.0215021 ,  0.03193289,  0.0265296 ],\n",
              "       [ 0.04475405,  0.01701972, -0.01756338, -0.01412927],\n",
              "       [ 0.02671785,  0.02930427,  0.03233513,  0.02356178],\n",
              "       [-0.03813453, -0.02189748,  0.00489343, -0.01764757],\n",
              "       [ 0.01086264, -0.10278458, -0.01166486, -0.03383309],\n",
              "       [-0.01951659, -0.09761703,  0.03764483, -0.08616833],\n",
              "       [ 0.03963008, -0.04552476,  0.02806281,  0.01839829],\n",
              "       [ 0.0035043 , -0.03504987,  0.02208349, -0.02632394],\n",
              "       [-0.07801627,  0.02530897,  0.02981088,  0.05931983],\n",
              "       [ 0.02535567, -0.01891002, -0.00115117,  0.01022515],\n",
              "       [ 0.04842747, -0.03703538,  0.04076118, -0.01304611],\n",
              "       [-0.06369118,  0.08752766,  0.04006561,  0.00510381],\n",
              "       [ 0.00166962,  0.043795  ,  0.00121584, -0.01541839],\n",
              "       [ 0.02881011,  0.04649831,  0.00737906,  0.00619844],\n",
              "       [ 0.06561064,  0.06831   , -0.07742835, -0.04483471],\n",
              "       [-0.06593943, -0.09074254,  0.09398783, -0.04090114],\n",
              "       [ 0.0055625 ,  0.03388203,  0.03137441,  0.03400445],\n",
              "       [-0.09249388,  0.08140133,  0.02261358,  0.02735095],\n",
              "       [-0.08251615, -0.02066404,  0.0403031 , -0.04163709],\n",
              "       [ 0.02520371,  0.03585266, -0.00536108, -0.00471172],\n",
              "       [ 0.03106845,  0.01092957, -0.05270493,  0.01379949]],\n",
              "      dtype=float32)"
            ]
          },
          "metadata": {},
          "execution_count": 15
        }
      ]
    },
    {
      "cell_type": "code",
      "source": [],
      "metadata": {
        "id": "ue1GeuXEBHfn"
      },
      "execution_count": null,
      "outputs": []
    }
  ]
}